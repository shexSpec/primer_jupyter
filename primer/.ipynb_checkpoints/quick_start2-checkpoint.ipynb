{
 "cells": [
  {
   "cell_type": "code",
   "execution_count": 1,
   "metadata": {},
   "outputs": [
    {
     "name": "stdout",
     "output_type": "stream",
     "text": [
      "Collecting PyShEx\n",
      "  Downloading PyShEx-0.1.2.tar.gz\n",
      "Collecting ShExJSG>=0.1.2 (from PyShEx)\n",
      "  Using cached ShExJSG-0.1.3.tar.gz\n",
      "Collecting PyShExC>=0.3.0 (from PyShEx)\n",
      "  Using cached PyShExC-0.3.2.tar.gz\n",
      "Requirement already satisfied: rdflib>=4.2.2 in /Library/Frameworks/Python.framework/Versions/3.6/lib/python3.6/site-packages (from PyShEx)\n",
      "Requirement already satisfied: rdflib-jsonld>=0.4.0 in /Library/Frameworks/Python.framework/Versions/3.6/lib/python3.6/site-packages (from PyShEx)\n",
      "Requirement already satisfied: requests in /Library/Frameworks/Python.framework/Versions/3.6/lib/python3.6/site-packages (from PyShEx)\n",
      "Requirement already satisfied: urllib3 in /Library/Frameworks/Python.framework/Versions/3.6/lib/python3.6/site-packages (from PyShEx)\n",
      "Requirement already satisfied: PyJSG>=0.5.0 in /Library/Frameworks/Python.framework/Versions/3.6/lib/python3.6/site-packages (from ShExJSG>=0.1.2->PyShEx)\n",
      "Requirement already satisfied: antlr4-python3-runtime>=4.7 in /Library/Frameworks/Python.framework/Versions/3.6/lib/python3.6/site-packages (from PyShExC>=0.3.0->PyShEx)\n",
      "Requirement already satisfied: jsonasobj>=1.1.2 in /Library/Frameworks/Python.framework/Versions/3.6/lib/python3.6/site-packages (from PyShExC>=0.3.0->PyShEx)\n",
      "Requirement already satisfied: isodate in /Library/Frameworks/Python.framework/Versions/3.6/lib/python3.6/site-packages (from rdflib>=4.2.2->PyShEx)\n",
      "Requirement already satisfied: pyparsing in /Library/Frameworks/Python.framework/Versions/3.6/lib/python3.6/site-packages (from rdflib>=4.2.2->PyShEx)\n",
      "Requirement already satisfied: idna<2.7,>=2.5 in /Library/Frameworks/Python.framework/Versions/3.6/lib/python3.6/site-packages (from requests->PyShEx)\n",
      "Requirement already satisfied: chardet<3.1.0,>=3.0.2 in /Library/Frameworks/Python.framework/Versions/3.6/lib/python3.6/site-packages (from requests->PyShEx)\n",
      "Requirement already satisfied: certifi>=2017.4.17 in /Library/Frameworks/Python.framework/Versions/3.6/lib/python3.6/site-packages (from requests->PyShEx)\n",
      "Installing collected packages: ShExJSG, PyShExC, PyShEx\n",
      "  Running setup.py install for ShExJSG ... \u001b[?25ldone\n",
      "\u001b[?25h  Running setup.py install for PyShExC ... \u001b[?25ldone\n",
      "\u001b[?25h  Running setup.py install for PyShEx ... \u001b[?25ldone\n",
      "\u001b[?25hSuccessfully installed PyShEx-0.1.2 PyShExC-0.3.2 ShExJSG-0.1.3\n"
     ]
    }
   ],
   "source": [
    "!pip3 install PyShEx"
   ]
  }
 ],
 "metadata": {
  "kernelspec": {
   "display_name": "Python 3",
   "language": "python",
   "name": "python3"
  },
  "language_info": {
   "codemirror_mode": {
    "name": "ipython",
    "version": 3
   },
   "file_extension": ".py",
   "mimetype": "text/x-python",
   "name": "python",
   "nbconvert_exporter": "python",
   "pygments_lexer": "ipython3",
   "version": "3.6.2"
  }
 },
 "nbformat": 4,
 "nbformat_minor": 2
}
