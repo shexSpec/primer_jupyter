{
 "cells": [
  {
   "cell_type": "code",
   "execution_count": 11,
   "metadata": {},
   "outputs": [],
   "source": [
    "import pyshex\n",
    "from pyshex.evaluate import evaluate\n",
    "from rdflib import Graph, Namespace, XSD"
   ]
  },
  {
   "cell_type": "code",
   "execution_count": 12,
   "metadata": {},
   "outputs": [],
   "source": [
    "SCHOOL = Namespace(\"http://school.example/#\")\n",
    "XSD = Namespace(\"http://www.w3.org/2001/XMLSchema#\")\n",
    "EX = Namespace(\"http://ex.example/#\")\n",
    "USERS = Namespace(\"http://example.com/users/\")"
   ]
  },
  {
   "cell_type": "code",
   "execution_count": 19,
   "metadata": {},
   "outputs": [],
   "source": [
    "shex_schema = f\"\"\"PREFIX school: <{SCHOOL}>\n",
    "PREFIX xsd: <{XSD}>\n",
    "PREFIX ex: <{EX}>\n",
    "\n",
    "school:enrolleeAge xsd:integer MinInclusive 13 MaxInclusive 20\n",
    "\n",
    "school:Enrollee {{\n",
    "  ex:hasGuardian IRI {{1,2}}\n",
    "}}\n",
    "\"\"\""
   ]
  },
  {
   "cell_type": "markdown",
   "metadata": {},
   "source": [
    "It is tempting to format ShEx schemas as f-strings and to interpolate the URIs.\n",
    "\n",
    "However, as the example above shows, there are two problems:\n",
    "* Curly brackets in the expression must be escaped (as double brackets `{{` and `}}`.\n",
    "* As per [PIP 498](https://www.python.org/dev/peps/pep-0498/), comments, using the '#' character, are not allowed inside an f-string expression.  "
   ]
  },
  {
   "cell_type": "code",
   "execution_count": 21,
   "metadata": {},
   "outputs": [],
   "source": [
    "shex_schema = \"\"\"PREFIX school: <http://school.example/#>\n",
    "PREFIX xsd: <http://www.w3.org/2001/XMLSchema#>\n",
    "PREFIX ex: <http://ex.example/#>\n",
    "\n",
    "# Node constraint\n",
    "school:enrolleeAge xsd:integer MinInclusive 13 MaxInclusive 20\n",
    "\n",
    "school:Enrollee {\n",
    "  # Triple constraint (including node constraint IRI)\n",
    "  ex:hasGuardian IRI {1,2}\n",
    "}\n",
    "\"\"\""
   ]
  },
  {
   "cell_type": "code",
   "execution_count": 22,
   "metadata": {},
   "outputs": [],
   "source": [
    "passing_data = f\"\"\"PREFIX ex: <{EX}>\n",
    "PREFIX inst: <{USERS}>\n",
    "\n",
    "inst:Student1 ex:hasGuardian inst:Person2, inst:Person3 .\n",
    "\"\"\""
   ]
  },
  {
   "cell_type": "code",
   "execution_count": 23,
   "metadata": {},
   "outputs": [
    {
     "data": {
      "text/plain": [
       "<Graph identifier=Nf14b34586ccb416688f96f96f6a5467d (<class 'rdflib.graph.Graph'>)>"
      ]
     },
     "execution_count": 23,
     "metadata": {},
     "output_type": "execute_result"
    }
   ],
   "source": [
    "g = Graph()\n",
    "g.parse(data=passing_data, format=\"turtle\")"
   ]
  },
  {
   "cell_type": "code",
   "execution_count": 25,
   "metadata": {},
   "outputs": [
    {
     "name": "stdout",
     "output_type": "stream",
     "text": [
      "No starting shape\n"
     ]
    }
   ],
   "source": [
    "rslt, reason = evaluate(g, shex_schema, EX.Obs1)\n",
    "if rslt:\n",
    "    print(\"CONFORMS\")\n",
    "else:\n",
    "    print(f\"{reason if reason else 'DOES NOT CONFORM'}\")"
   ]
  },
  {
   "cell_type": "code",
   "execution_count": null,
   "metadata": {},
   "outputs": [],
   "source": [
    "# unsure...\n",
    "shape_map = \"\"\"start = @ObservationShape\"\"\""
   ]
  },
  {
   "cell_type": "code",
   "execution_count": null,
   "metadata": {},
   "outputs": [],
   "source": []
  },
  {
   "cell_type": "code",
   "execution_count": null,
   "metadata": {},
   "outputs": [],
   "source": []
  }
 ],
 "metadata": {
  "kernelspec": {
   "display_name": "Python 3",
   "language": "python",
   "name": "python3"
  },
  "language_info": {
   "codemirror_mode": {
    "name": "ipython",
    "version": 3
   },
   "file_extension": ".py",
   "mimetype": "text/x-python",
   "name": "python",
   "nbconvert_exporter": "python",
   "pygments_lexer": "ipython3",
   "version": "3.6.2"
  }
 },
 "nbformat": 4,
 "nbformat_minor": 1
}
