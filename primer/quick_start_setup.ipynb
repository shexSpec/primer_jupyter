{
 "cells": [
  {
   "cell_type": "markdown",
   "metadata": {},
   "source": [
    "* If you are already reading this notebook in Jupyter, simply execute the following cell.\n",
    "* If you do not yet have Jupyter, create and run `/tmp/setup.sh` (see below)."
   ]
  },
  {
   "cell_type": "code",
   "execution_count": 33,
   "metadata": {},
   "outputs": [
    {
     "name": "stdout",
     "output_type": "stream",
     "text": [
      "Writing 'setup' (str) to file '/tmp/setup.sh'.\n"
     ]
    }
   ],
   "source": [
    "setup = \"\"\"\n",
    "#!/bin/bash\n",
    "\n",
    "cd /tmp\n",
    "python -m venv venv\n",
    "source ./venv/bin/activate\n",
    "pip3 install ipykernel\n",
    "pip3 install jupyter\n",
    "ipython kernel install --user --name=venv\n",
    "mv PyShEx PyShEx.$(date +%Y%m%d%H%M) 2>/dev/null\n",
    "git clone https://github.com/hsolbrig/PyShEx\n",
    "\"\"\"\n",
    "%store setup >/tmp/setup.sh"
   ]
  },
  {
   "cell_type": "markdown",
   "metadata": {},
   "source": [
    "Now run:\n",
    "`$ sh /tmp/setup.sh`"
   ]
  }
 ],
 "metadata": {
  "kernelspec": {
   "display_name": "Python 3",
   "language": "python",
   "name": "python3"
  },
  "language_info": {
   "codemirror_mode": {
    "name": "ipython",
    "version": 3
   },
   "file_extension": ".py",
   "mimetype": "text/x-python",
   "name": "python",
   "nbconvert_exporter": "python",
   "pygments_lexer": "ipython3",
   "version": "3.6.2"
  }
 },
 "nbformat": 4,
 "nbformat_minor": 1
}
